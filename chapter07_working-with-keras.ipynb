{
 "cells": [
  {
   "cell_type": "markdown",
   "metadata": {
    "colab_type": "text"
   },
   "source": [
    "# Ch.7 Working with Keras: A deep dive\n",
    "\n",
    "Contents : \n",
    "\n",
    "* **Sequential class**, **Functional API** 및 **model subclassing**을 사용하여 Keras 모델 만들기\n",
    "* 기본 제공 Keras 훈련 및 평가 루프 사용\n",
    "* Keras callbacks을 사용하여 훈련 customize\n",
    "* 처음부터 훈련 및 평가 루프 작성하기"
   ]
  },
  {
   "cell_type": "markdown",
   "metadata": {
    "colab_type": "text"
   },
   "source": [
    "## A spectrum of workflows\n",
    "\n",
    "원칙: \n",
    "* 복잡성의 점진적 공개\n",
    "* 시작하기 쉬우면서도 복잡한 사용 사례를 처리할 수 있게 합니다.\n",
    "* 매우 단순한 것부터 매우 유연한 것까지"
   ]
  },
  {
   "cell_type": "markdown",
   "metadata": {
    "colab_type": "text"
   },
   "source": [
    "## Different ways to build Keras models\n",
    "\n",
    "* Sequential model : like a python list/stack of layers\n",
    "* Functional API : graph-like model architectures\n",
    "* Model subclassing : low-level and full control\n",
    "\n",
    "<img src=\"https://drek4537l1klr.cloudfront.net/chollet2/Figures/07-01.png\" width=\"500\"><p style=\"text-align:center\">Figure 7.1 Progressive disclosure of complexity for model building</p>"
   ]
  },
  {
   "cell_type": "markdown",
   "metadata": {
    "colab_type": "text"
   },
   "source": [
    "### The Sequential model"
   ]
  },
  {
   "cell_type": "markdown",
   "metadata": {
    "colab_type": "text"
   },
   "source": [
    "**The `Sequential` class**"
   ]
  },
  {
   "cell_type": "code",
   "execution_count": 1,
   "metadata": {
    "colab_type": "code"
   },
   "outputs": [],
   "source": [
    "from tensorflow import keras\n",
    "from tensorflow.keras import layers\n",
    "\n",
    "model = keras.Sequential([\n",
    "    layers.Dense(64, activation=\"relu\"),\n",
    "    layers.Dense(10, activation=\"softmax\")\n",
    "])"
   ]
  },
  {
   "cell_type": "markdown",
   "metadata": {
    "colab_type": "text"
   },
   "source": [
    "**Incrementally building a Sequential model**"
   ]
  },
  {
   "cell_type": "code",
   "execution_count": 2,
   "metadata": {
    "colab_type": "code"
   },
   "outputs": [],
   "source": [
    "model = keras.Sequential()\n",
    "model.add(layers.Dense(64, activation=\"relu\"))\n",
    "model.add(layers.Dense(10, activation=\"softmax\"))"
   ]
  },
  {
   "cell_type": "markdown",
   "metadata": {
    "colab_type": "text"
   },
   "source": [
    "**Calling a model for the first time to build it**"
   ]
  },
  {
   "cell_type": "code",
   "execution_count": 3,
   "metadata": {
    "colab_type": "code"
   },
   "outputs": [
    {
     "data": {
      "text/plain": [
       "[<tf.Variable 'dense_2/kernel:0' shape=(3, 64) dtype=float32, numpy=\n",
       " array([[ 0.190227  , -0.11684732,  0.18860963, -0.17091313, -0.0561216 ,\n",
       "         -0.15436623, -0.09409977,  0.00238621, -0.16032174, -0.05613616,\n",
       "         -0.27299267,  0.21225649,  0.15175742, -0.26266807,  0.19756901,\n",
       "         -0.06954363,  0.18576044, -0.02461585,  0.13340586, -0.14836784,\n",
       "         -0.12716973, -0.24934393, -0.07982658,  0.21235037, -0.09118065,\n",
       "         -0.05989638,  0.07713592,  0.14623782,  0.00215635, -0.19010308,\n",
       "         -0.05205216, -0.01161236, -0.07298999,  0.01975498,  0.22246957,\n",
       "         -0.24292216,  0.22604197,  0.11846933, -0.22905943, -0.0187875 ,\n",
       "          0.17176715,  0.09232587,  0.1294032 ,  0.25309408, -0.10688351,\n",
       "         -0.1410737 , -0.1585621 ,  0.06663349,  0.28180236,  0.23542547,\n",
       "          0.29421645, -0.23397005, -0.14421678,  0.08545953,  0.16403908,\n",
       "         -0.27109247, -0.2782709 , -0.28987092, -0.29184252, -0.11418857,\n",
       "         -0.12067704,  0.16804111,  0.16924232, -0.03942004],\n",
       "        [ 0.07056874, -0.19062285,  0.25792575, -0.18483436,  0.15111414,\n",
       "          0.05689415, -0.0974023 ,  0.22683716, -0.01419437, -0.17398407,\n",
       "         -0.27038214,  0.00559086,  0.20949405, -0.16264567,  0.20641893,\n",
       "         -0.01295027, -0.08088915, -0.21208766,  0.22771865,  0.18463415,\n",
       "          0.02309695, -0.17236055, -0.12621789,  0.16991505,  0.05340141,\n",
       "          0.08219215,  0.18910736,  0.13242954,  0.25060546, -0.13370879,\n",
       "          0.0552747 ,  0.06114674,  0.06238741, -0.09934701, -0.20741154,\n",
       "          0.03789604, -0.26270303, -0.29082125, -0.09796594,  0.11154121,\n",
       "         -0.0820743 , -0.13474676, -0.08955158,  0.27716613,  0.05360261,\n",
       "         -0.20261578, -0.29478052,  0.23336172, -0.23601815,  0.26647854,\n",
       "         -0.23016459, -0.24319628,  0.12033349, -0.17944556,  0.10081685,\n",
       "          0.19686338, -0.0968826 , -0.01089248,  0.27811635,  0.2071982 ,\n",
       "          0.01658714, -0.14947522,  0.19051561,  0.03980365],\n",
       "        [ 0.25205874, -0.07910232,  0.21042317,  0.14231151, -0.04883438,\n",
       "         -0.01350302,  0.22742945, -0.195517  ,  0.08928418,  0.05812648,\n",
       "         -0.08377138,  0.1725952 ,  0.19724047, -0.20455165,  0.17432737,\n",
       "         -0.2256276 , -0.03158501,  0.11047879,  0.2917865 ,  0.09515116,\n",
       "          0.09176379,  0.2139718 , -0.06054942, -0.23031071, -0.04033393,\n",
       "         -0.26402852, -0.13264543, -0.04589322, -0.2705494 , -0.04462454,\n",
       "          0.18623564, -0.05435105,  0.15962297, -0.24858636,  0.19785213,\n",
       "         -0.24017543,  0.25169033,  0.2062512 ,  0.25593603,  0.15565306,\n",
       "          0.08602566,  0.05747434,  0.02470496,  0.05434391,  0.2768172 ,\n",
       "          0.07328531, -0.05697671, -0.09429419,  0.13615188,  0.25702614,\n",
       "          0.13639945, -0.21733996,  0.02977064,  0.03038451,  0.04340658,\n",
       "         -0.26354584,  0.08713853, -0.26054946,  0.09830999,  0.23487896,\n",
       "         -0.15852721,  0.09429798, -0.14064498,  0.07866782]],\n",
       "       dtype=float32)>,\n",
       " <tf.Variable 'dense_2/bias:0' shape=(64,) dtype=float32, numpy=\n",
       " array([0., 0., 0., 0., 0., 0., 0., 0., 0., 0., 0., 0., 0., 0., 0., 0., 0.,\n",
       "        0., 0., 0., 0., 0., 0., 0., 0., 0., 0., 0., 0., 0., 0., 0., 0., 0.,\n",
       "        0., 0., 0., 0., 0., 0., 0., 0., 0., 0., 0., 0., 0., 0., 0., 0., 0.,\n",
       "        0., 0., 0., 0., 0., 0., 0., 0., 0., 0., 0., 0., 0.], dtype=float32)>,\n",
       " <tf.Variable 'dense_3/kernel:0' shape=(64, 10) dtype=float32, numpy=\n",
       " array([[ 0.10371435,  0.17044944,  0.19521827, -0.16944419,  0.00145811,\n",
       "          0.00689489, -0.00796333, -0.24874127,  0.20366421, -0.05046092],\n",
       "        [ 0.16438794,  0.21734127, -0.01917532, -0.22939187, -0.14753258,\n",
       "          0.12553313,  0.25147876,  0.16340044, -0.18675034,  0.06202123],\n",
       "        [-0.0669266 , -0.26361814, -0.26242417, -0.22210872,  0.11917859,\n",
       "          0.13699451, -0.24492685, -0.1557695 , -0.27320883, -0.26654735],\n",
       "        [ 0.25255045,  0.01954526, -0.12438364, -0.0136582 , -0.04197133,\n",
       "          0.263652  , -0.27711177,  0.14566189, -0.08472352,  0.14690739],\n",
       "        [-0.06698771, -0.14602022,  0.25741455,  0.1754874 ,  0.12674496,\n",
       "         -0.02615494, -0.28271806,  0.11184275, -0.15851411,  0.13036019],\n",
       "        [-0.02646649, -0.05111164,  0.06728369,  0.19114846,  0.18221977,\n",
       "         -0.08436066, -0.07872105, -0.0404073 , -0.24080572, -0.05392897],\n",
       "        [-0.13406889,  0.05453774, -0.15768574,  0.09703922,  0.2584745 ,\n",
       "          0.20060202, -0.07839571, -0.14525063,  0.19892964, -0.22998556],\n",
       "        [ 0.26331076,  0.01089558,  0.07632157, -0.22876973, -0.22012296,\n",
       "         -0.06255706, -0.27116245,  0.11667654,  0.02769697, -0.10439846],\n",
       "        [-0.04552145, -0.20145985,  0.03460374, -0.04232857,  0.00261042,\n",
       "         -0.13258742,  0.17825899, -0.04767245,  0.17972383, -0.02236217],\n",
       "        [-0.1963637 ,  0.09853387, -0.25292358, -0.01351807, -0.11056481,\n",
       "          0.14706755, -0.03659438,  0.02999109,  0.27994582,  0.11518839],\n",
       "        [ 0.17515129,  0.19796005, -0.09187828,  0.16677967,  0.11208519,\n",
       "         -0.15314436, -0.08249921,  0.0272842 ,  0.2272853 ,  0.10389552],\n",
       "        [ 0.20768005, -0.2681638 , -0.01266268,  0.04178381, -0.11269708,\n",
       "         -0.12855318,  0.04252788, -0.09191392,  0.240194  , -0.02422234],\n",
       "        [-0.24453697,  0.23282692,  0.25590828,  0.05521315, -0.19832   ,\n",
       "         -0.07560079,  0.06526482,  0.04152462, -0.23740557,  0.06554654],\n",
       "        [-0.2664373 , -0.2732916 , -0.00425163,  0.12877932,  0.2847382 ,\n",
       "         -0.14765003,  0.11961192, -0.171637  , -0.15155528, -0.1400671 ],\n",
       "        [-0.11738116,  0.03943974, -0.01764151, -0.07156982, -0.14488831,\n",
       "         -0.02086842,  0.22460136, -0.09080502,  0.22741494, -0.05357786],\n",
       "        [ 0.05268231,  0.1130431 , -0.10354516,  0.1461277 ,  0.07676286,\n",
       "          0.03211689, -0.11424801,  0.06446794, -0.22320357,  0.24905458],\n",
       "        [-0.25086075,  0.01575923, -0.02333313, -0.12660198, -0.2707509 ,\n",
       "         -0.15933782,  0.24372324,  0.11586994,  0.2759135 , -0.09299323],\n",
       "        [-0.2787037 , -0.2332665 , -0.14364906, -0.26417512,  0.26071593,\n",
       "         -0.17854017,  0.1791201 ,  0.27714923, -0.11899677,  0.08691409],\n",
       "        [-0.18637139, -0.0464607 , -0.18721673, -0.09838089,  0.15971026,\n",
       "         -0.10536553, -0.0400686 , -0.25338766, -0.06212474,  0.19294506],\n",
       "        [ 0.07213384, -0.09768708,  0.05940774,  0.2677547 ,  0.27118364,\n",
       "          0.23642108, -0.0639993 , -0.05297567,  0.0307329 , -0.06964998],\n",
       "        [ 0.07132113,  0.00090048, -0.28004724, -0.04127125, -0.0392525 ,\n",
       "         -0.08368264,  0.19293606, -0.19231378, -0.19054392, -0.2819511 ],\n",
       "        [ 0.09939462, -0.08950454,  0.2580109 , -0.27149957, -0.03580368,\n",
       "          0.092314  , -0.2178584 , -0.21165177,  0.07117918,  0.1142444 ],\n",
       "        [-0.23249488,  0.06157905,  0.04187235, -0.19426891,  0.05864239,\n",
       "         -0.08619583,  0.22792235, -0.12865841,  0.05384701,  0.08702686],\n",
       "        [-0.1002634 ,  0.11811206,  0.05687827,  0.03940627, -0.13965161,\n",
       "          0.16020945,  0.12541771,  0.22923955, -0.13226515, -0.2731224 ],\n",
       "        [-0.15190315,  0.19239858,  0.21681449, -0.01096794,  0.01582161,\n",
       "         -0.02876121,  0.08718532, -0.09733637,  0.10948449, -0.15482679],\n",
       "        [ 0.08368197,  0.15924534,  0.25407627,  0.26863965, -0.13158503,\n",
       "         -0.17467763, -0.18334922,  0.04295668,  0.12904876,  0.01165649],\n",
       "        [-0.22860184, -0.2194975 , -0.24607472, -0.02175674,  0.2158815 ,\n",
       "         -0.07350634, -0.03608339, -0.24002546,  0.04062638,  0.16840303],\n",
       "        [-0.23808269, -0.09527186, -0.23983192,  0.00971749, -0.25724968,\n",
       "         -0.06075297,  0.01642263,  0.03314072, -0.06433012,  0.10834411],\n",
       "        [-0.01714221,  0.02091548, -0.14447752,  0.05402118, -0.10106441,\n",
       "         -0.16833013, -0.27476302, -0.19772297, -0.09477179, -0.02135402],\n",
       "        [-0.1779562 , -0.18103972, -0.10086422,  0.06142318,  0.07514805,\n",
       "          0.2402964 , -0.08804201,  0.14766204,  0.00808057, -0.04010689],\n",
       "        [ 0.15565878, -0.04521663, -0.13638262,  0.05811006, -0.22035468,\n",
       "         -0.08282399,  0.13320526, -0.04502226, -0.08374049,  0.12889546],\n",
       "        [-0.01249731,  0.03432262,  0.14866158, -0.22334206, -0.14689729,\n",
       "         -0.16327728, -0.20773995, -0.07229744,  0.09845558, -0.12223685],\n",
       "        [ 0.04990512,  0.22350118, -0.19053659,  0.1203202 , -0.20642689,\n",
       "          0.19482207,  0.26886472, -0.26493615, -0.12489668,  0.26359084],\n",
       "        [ 0.02607924,  0.18819046,  0.09812719, -0.05992445,  0.1548858 ,\n",
       "         -0.08848913, -0.0218735 ,  0.06141204,  0.06141117,  0.12773171],\n",
       "        [-0.25073123, -0.24738376, -0.12493511,  0.253786  ,  0.1903306 ,\n",
       "         -0.03390998,  0.14202285, -0.17763752, -0.02522629, -0.1184741 ],\n",
       "        [ 0.00367287,  0.08049369,  0.24944767,  0.09403852,  0.07549855,\n",
       "         -0.07035786, -0.03569804, -0.25562128,  0.08273646,  0.00515848],\n",
       "        [ 0.2766011 , -0.01477537,  0.0124791 ,  0.14652309,  0.13890627,\n",
       "          0.10638732, -0.08618775, -0.0783803 , -0.14097376, -0.09440193],\n",
       "        [-0.1575454 , -0.01987854, -0.03797919,  0.0919489 , -0.1424441 ,\n",
       "         -0.20112517, -0.06800428, -0.18935028, -0.07250668, -0.21037593],\n",
       "        [ 0.13628304,  0.24552056,  0.17534539,  0.18858835,  0.20163134,\n",
       "         -0.16284001,  0.27792194,  0.14028141,  0.06247145,  0.13356012],\n",
       "        [-0.07157762, -0.2714689 , -0.17172045, -0.19769521, -0.09280585,\n",
       "          0.2541385 , -0.08740303, -0.06675437, -0.2634057 ,  0.26947168],\n",
       "        [ 0.14751995, -0.08279066, -0.23152393, -0.15905064,  0.160691  ,\n",
       "          0.07695973,  0.10721353, -0.17481272, -0.28296226, -0.22914258],\n",
       "        [ 0.02012029, -0.19994906, -0.00308487, -0.15682049, -0.2820562 ,\n",
       "          0.08776802,  0.11775079,  0.06838012, -0.20110452, -0.04085992],\n",
       "        [ 0.250621  , -0.11625528,  0.26776877,  0.22803643, -0.06309319,\n",
       "         -0.12059712,  0.04712677, -0.2236517 ,  0.06244642,  0.2725233 ],\n",
       "        [-0.14086486, -0.056041  , -0.19589044,  0.27844217,  0.08067679,\n",
       "         -0.19459939, -0.08878729, -0.10070325, -0.19883949,  0.142957  ],\n",
       "        [-0.09030129, -0.06032066, -0.0976052 ,  0.15672612, -0.1534834 ,\n",
       "         -0.22661127,  0.11745697,  0.04398736, -0.03672338,  0.1645777 ],\n",
       "        [-0.20301166, -0.03112429,  0.00606161,  0.02146775,  0.13736537,\n",
       "         -0.06795886, -0.04677591,  0.13866803,  0.11269   , -0.19228682],\n",
       "        [-0.09596398,  0.23402277,  0.05209079, -0.22182475, -0.02746084,\n",
       "         -0.15096717,  0.23829898,  0.02577525, -0.17936829,  0.12733606],\n",
       "        [ 0.25998303,  0.18818545, -0.20706098,  0.08681023,  0.01219973,\n",
       "          0.10400686,  0.2173725 , -0.02590546, -0.2838182 , -0.01338893],\n",
       "        [ 0.10608381, -0.01598942,  0.00908187,  0.21775058, -0.14303873,\n",
       "          0.13250032,  0.13970578,  0.1372723 ,  0.2705705 , -0.1417701 ],\n",
       "        [-0.23971196, -0.11778101,  0.15001312,  0.18451494, -0.10536885,\n",
       "          0.02451706, -0.2612662 ,  0.00762177,  0.041715  , -0.05421533],\n",
       "        [ 0.17515883,  0.00313044, -0.06926511,  0.15717521, -0.12699682,\n",
       "         -0.20179027,  0.2770588 , -0.02784485, -0.12569797,  0.00247559],\n",
       "        [ 0.25408623, -0.18399648, -0.06248116, -0.05216528, -0.10320354,\n",
       "         -0.270914  ,  0.28428218, -0.11917512, -0.14727983,  0.12854972],\n",
       "        [-0.21720889,  0.25150803,  0.11812407, -0.2762345 , -0.06379753,\n",
       "         -0.10292491,  0.17454156, -0.08494607, -0.25560743,  0.0972333 ],\n",
       "        [-0.1491032 ,  0.02427372, -0.04861115,  0.09922701,  0.22610584,\n",
       "         -0.2694422 , -0.24901915,  0.05925655,  0.07448339,  0.21636173],\n",
       "        [-0.14196683, -0.22138727, -0.22422768,  0.05742615, -0.23315367,\n",
       "          0.16944927, -0.16460568, -0.21089801,  0.27408257,  0.00341651],\n",
       "        [ 0.05386996, -0.13962188,  0.09644523,  0.0483284 ,  0.12910321,\n",
       "          0.11475235,  0.21713194, -0.16719836,  0.14047694, -0.15114564],\n",
       "        [ 0.03854939,  0.14645079, -0.03582697,  0.18725958,  0.2775353 ,\n",
       "          0.19040745, -0.07210165, -0.155842  , -0.04939608, -0.22629252],\n",
       "        [-0.12277181, -0.08902259, -0.2191487 , -0.09060359,  0.03347501,\n",
       "          0.11360741, -0.12458241,  0.1039083 ,  0.02238575, -0.19664592],\n",
       "        [ 0.15966001,  0.10926351, -0.19927791, -0.15087333, -0.02962679,\n",
       "          0.05608532, -0.07665199,  0.25948635, -0.21867266,  0.04142782],\n",
       "        [ 0.16495857, -0.28228348, -0.17870358,  0.24084052, -0.04137947,\n",
       "          0.06538004, -0.1954457 ,  0.10596091, -0.13744318,  0.03578269],\n",
       "        [ 0.17928934, -0.255943  , -0.03531115,  0.11356205,  0.20986018,\n",
       "         -0.25714505, -0.03946209, -0.24817209,  0.03075776,  0.16504166],\n",
       "        [ 0.25922558,  0.1880809 , -0.05119847, -0.24108678,  0.07028371,\n",
       "          0.13921762, -0.11921836, -0.02163801,  0.00445372, -0.23934236],\n",
       "        [-0.08914636, -0.13410583,  0.01211303,  0.02112478, -0.04375885,\n",
       "         -0.04601942, -0.08892891,  0.21431267,  0.20334947,  0.10117319],\n",
       "        [ 0.18167168, -0.17047766, -0.08610031, -0.05470623, -0.01949379,\n",
       "         -0.21986282,  0.00446084,  0.08384091,  0.2188144 , -0.24091727]],\n",
       "       dtype=float32)>,\n",
       " <tf.Variable 'dense_3/bias:0' shape=(10,) dtype=float32, numpy=array([0., 0., 0., 0., 0., 0., 0., 0., 0., 0.], dtype=float32)>]"
      ]
     },
     "execution_count": 3,
     "metadata": {},
     "output_type": "execute_result"
    }
   ],
   "source": [
    "model.build(input_shape=(None, 3))\n",
    "model.weights"
   ]
  },
  {
   "cell_type": "markdown",
   "metadata": {
    "colab_type": "text"
   },
   "source": [
    "**The summary method**"
   ]
  },
  {
   "cell_type": "code",
   "execution_count": 4,
   "metadata": {
    "colab_type": "code"
   },
   "outputs": [
    {
     "name": "stdout",
     "output_type": "stream",
     "text": [
      "Model: \"sequential_1\"\n",
      "_________________________________________________________________\n",
      "Layer (type)                 Output Shape              Param #   \n",
      "=================================================================\n",
      "dense_2 (Dense)              (None, 64)                256       \n",
      "_________________________________________________________________\n",
      "dense_3 (Dense)              (None, 10)                650       \n",
      "=================================================================\n",
      "Total params: 906\n",
      "Trainable params: 906\n",
      "Non-trainable params: 0\n",
      "_________________________________________________________________\n"
     ]
    }
   ],
   "source": [
    "model.summary()"
   ]
  },
  {
   "cell_type": "markdown",
   "metadata": {
    "colab_type": "text"
   },
   "source": [
    "**Naming models and layers with the `name` argument**"
   ]
  },
  {
   "cell_type": "code",
   "execution_count": 5,
   "metadata": {
    "colab_type": "code"
   },
   "outputs": [
    {
     "name": "stdout",
     "output_type": "stream",
     "text": [
      "Model: \"my_example_model\"\n",
      "_________________________________________________________________\n",
      "Layer (type)                 Output Shape              Param #   \n",
      "=================================================================\n",
      "my_first_layer (Dense)       (None, 64)                256       \n",
      "_________________________________________________________________\n",
      "my_last_layer (Dense)        (None, 10)                650       \n",
      "=================================================================\n",
      "Total params: 906\n",
      "Trainable params: 906\n",
      "Non-trainable params: 0\n",
      "_________________________________________________________________\n"
     ]
    }
   ],
   "source": [
    "model = keras.Sequential(name=\"my_example_model\")\n",
    "model.add(layers.Dense(64, activation=\"relu\", name=\"my_first_layer\"))\n",
    "model.add(layers.Dense(10, activation=\"softmax\", name=\"my_last_layer\"))\n",
    "model.build((None, 3))\n",
    "model.summary()"
   ]
  },
  {
   "cell_type": "markdown",
   "metadata": {
    "colab_type": "text"
   },
   "source": [
    "**Specifying the input shape of your model in advance**"
   ]
  },
  {
   "cell_type": "code",
   "execution_count": 6,
   "metadata": {
    "colab_type": "code"
   },
   "outputs": [],
   "source": [
    "model = keras.Sequential()\n",
    "model.add(keras.Input(shape=(3,)))\n",
    "model.add(layers.Dense(64, activation=\"relu\"))"
   ]
  },
  {
   "cell_type": "code",
   "execution_count": 7,
   "metadata": {
    "colab_type": "code"
   },
   "outputs": [
    {
     "name": "stdout",
     "output_type": "stream",
     "text": [
      "Model: \"sequential_2\"\n",
      "_________________________________________________________________\n",
      "Layer (type)                 Output Shape              Param #   \n",
      "=================================================================\n",
      "dense_4 (Dense)              (None, 64)                256       \n",
      "=================================================================\n",
      "Total params: 256\n",
      "Trainable params: 256\n",
      "Non-trainable params: 0\n",
      "_________________________________________________________________\n"
     ]
    }
   ],
   "source": [
    "model.summary()"
   ]
  },
  {
   "cell_type": "code",
   "execution_count": 8,
   "metadata": {
    "colab_type": "code"
   },
   "outputs": [
    {
     "name": "stdout",
     "output_type": "stream",
     "text": [
      "Model: \"sequential_2\"\n",
      "_________________________________________________________________\n",
      "Layer (type)                 Output Shape              Param #   \n",
      "=================================================================\n",
      "dense_4 (Dense)              (None, 64)                256       \n",
      "_________________________________________________________________\n",
      "dense_5 (Dense)              (None, 10)                650       \n",
      "=================================================================\n",
      "Total params: 906\n",
      "Trainable params: 906\n",
      "Non-trainable params: 0\n",
      "_________________________________________________________________\n"
     ]
    }
   ],
   "source": [
    "model.add(layers.Dense(10, activation=\"softmax\"))\n",
    "model.summary()"
   ]
  },
  {
   "cell_type": "markdown",
   "metadata": {
    "colab_type": "text"
   },
   "source": [
    "### The Functional API\n",
    "\n",
    "**Sequential model** : easy but limited (one input, one output)\n",
    "\n",
    "**Functional API**:\n",
    "\n",
    "* built the model like a graph\n",
    "* can have multiple inputs/outputs\n",
    "* feel like playing with LEGO bricks!\n"
   ]
  },
  {
   "cell_type": "markdown",
   "metadata": {
    "colab_type": "text"
   },
   "source": [
    "#### A simple example"
   ]
  },
  {
   "cell_type": "markdown",
   "metadata": {
    "colab_type": "text"
   },
   "source": [
    "**A simple Functional model with two `Dense` layers**"
   ]
  },
  {
   "cell_type": "code",
   "execution_count": 9,
   "metadata": {
    "colab_type": "code"
   },
   "outputs": [],
   "source": [
    "inputs = keras.Input(shape=(3,), name=\"my_input\")\n",
    "features = layers.Dense(64, activation=\"relu\")(inputs)\n",
    "outputs = layers.Dense(10, activation=\"softmax\")(features)\n",
    "model = keras.Model(inputs=inputs, outputs=outputs)"
   ]
  },
  {
   "cell_type": "code",
   "execution_count": 10,
   "metadata": {
    "colab_type": "code"
   },
   "outputs": [],
   "source": [
    "inputs = keras.Input(shape=(3,), name=\"my_input\")"
   ]
  },
  {
   "cell_type": "code",
   "execution_count": 11,
   "metadata": {
    "colab_type": "code"
   },
   "outputs": [
    {
     "data": {
      "text/plain": [
       "TensorShape([None, 3])"
      ]
     },
     "execution_count": 11,
     "metadata": {},
     "output_type": "execute_result"
    }
   ],
   "source": [
    "inputs.shape"
   ]
  },
  {
   "cell_type": "code",
   "execution_count": 12,
   "metadata": {
    "colab_type": "code"
   },
   "outputs": [
    {
     "data": {
      "text/plain": [
       "tf.float32"
      ]
     },
     "execution_count": 12,
     "metadata": {},
     "output_type": "execute_result"
    }
   ],
   "source": [
    "inputs.dtype"
   ]
  },
  {
   "cell_type": "code",
   "execution_count": 13,
   "metadata": {
    "colab_type": "code"
   },
   "outputs": [],
   "source": [
    "features = layers.Dense(64, activation=\"relu\")(inputs)"
   ]
  },
  {
   "cell_type": "code",
   "execution_count": 14,
   "metadata": {
    "colab_type": "code"
   },
   "outputs": [
    {
     "data": {
      "text/plain": [
       "TensorShape([None, 64])"
      ]
     },
     "execution_count": 14,
     "metadata": {},
     "output_type": "execute_result"
    }
   ],
   "source": [
    "features.shape"
   ]
  },
  {
   "cell_type": "code",
   "execution_count": 15,
   "metadata": {
    "colab_type": "code"
   },
   "outputs": [],
   "source": [
    "outputs = layers.Dense(10, activation=\"softmax\")(features)\n",
    "model = keras.Model(inputs=inputs, outputs=outputs)"
   ]
  },
  {
   "cell_type": "code",
   "execution_count": 16,
   "metadata": {
    "colab_type": "code"
   },
   "outputs": [
    {
     "name": "stdout",
     "output_type": "stream",
     "text": [
      "Model: \"functional_3\"\n",
      "_________________________________________________________________\n",
      "Layer (type)                 Output Shape              Param #   \n",
      "=================================================================\n",
      "my_input (InputLayer)        [(None, 3)]               0         \n",
      "_________________________________________________________________\n",
      "dense_8 (Dense)              (None, 64)                256       \n",
      "_________________________________________________________________\n",
      "dense_9 (Dense)              (None, 10)                650       \n",
      "=================================================================\n",
      "Total params: 906\n",
      "Trainable params: 906\n",
      "Non-trainable params: 0\n",
      "_________________________________________________________________\n"
     ]
    }
   ],
   "source": [
    "model.summary()"
   ]
  },
  {
   "cell_type": "markdown",
   "metadata": {
    "colab_type": "text"
   },
   "source": [
    "#### Multi-input, multi-output models"
   ]
  },
  {
   "cell_type": "markdown",
   "metadata": {
    "colab_type": "text"
   },
   "source": [
    "**A multi-input, multi-output Functional model**\n",
    "\n",
    "고객 지원 티켓의 우선 순위를 지정하고 해당 부서로 라우팅하는 시스템 구축\n",
    "\n",
    "**inputs**:\n",
    "\n",
    "* 티켓 제목(텍스트 입력)\n",
    "* 티켓의 텍스트 본문(텍스트 입력)\n",
    "* 사용자가 추가한 모든 태그(범주 입력, 여기서는 원-핫 인코딩으로 가정)\n",
    "\n",
    "**text inputs**: 어휘 크기의 1과 0의 배열\n",
    "\n",
    "**outputs**:\n",
    "\n",
    "* 티켓의 우선 순위 점수, 0과 1 사이의 스칼라(sigmoid 출력)\n",
    "* 티켓을 처리해야 하는 부서(부서 집합에 대한 softmax)"
   ]
  },
  {
   "cell_type": "code",
   "execution_count": 18,
   "metadata": {
    "colab_type": "code"
   },
   "outputs": [],
   "source": [
    "vocabulary_size = 10000\n",
    "num_tags = 100\n",
    "num_departments = 4\n",
    "\n",
    "title     = keras.Input(shape=(vocabulary_size,), name=\"title\")\n",
    "text_body = keras.Input(shape=(vocabulary_size,), name=\"text_body\")\n",
    "tags      = keras.Input(shape=(num_tags,), name=\"tags\")\n",
    "\n",
    "features = layers.Concatenate()([title, text_body, tags])\n",
    "features = layers.Dense(64, activation=\"relu\")(features)\n",
    "\n",
    "priority   = layers.Dense(1, activation=\"sigmoid\", name=\"priority\")(features)\n",
    "department = layers.Dense(\n",
    "    num_departments, activation=\"softmax\", name=\"department\")(features)\n",
    "\n",
    "model = keras.Model(inputs=[title, text_body, tags], outputs=[priority, department])"
   ]
  },
  {
   "cell_type": "markdown",
   "metadata": {
    "colab_type": "text"
   },
   "source": [
    "#### Training a multi-input, multi-output model"
   ]
  },
  {
   "cell_type": "markdown",
   "metadata": {
    "colab_type": "text"
   },
   "source": [
    "**Training a model by providing lists of input & target arrays**"
   ]
  },
  {
   "cell_type": "code",
   "execution_count": 19,
   "metadata": {
    "colab_type": "code"
   },
   "outputs": [
    {
     "name": "stdout",
     "output_type": "stream",
     "text": [
      "40/40 [==============================] - 1s 30ms/step - loss: 19.7565 - priority_loss: 0.3281 - department_loss: 19.4285 - priority_mean_absolute_error: 0.4933 - department_accuracy: 0.2547\n",
      "40/40 [==============================] - 0s 8ms/step - loss: 4.7620 - priority_loss: 0.3401 - department_loss: 4.4219 - priority_mean_absolute_error: 0.5052 - department_accuracy: 0.2453\n"
     ]
    }
   ],
   "source": [
    "import numpy as np\n",
    "\n",
    "num_samples = 1280\n",
    "\n",
    "title_data     = np.random.randint(0, 2, size=(num_samples, vocabulary_size))\n",
    "text_body_data = np.random.randint(0, 2, size=(num_samples, vocabulary_size))\n",
    "tags_data      = np.random.randint(0, 2, size=(num_samples, num_tags))\n",
    "\n",
    "priority_data   = np.random.random(size=(num_samples, 1))\n",
    "department_data = np.random.randint(0, 2, size=(num_samples, num_departments))\n",
    "\n",
    "model.compile(optimizer=\"rmsprop\",\n",
    "              loss=[\"mean_squared_error\", \"categorical_crossentropy\"],\n",
    "              metrics=[[\"mean_absolute_error\"], [\"accuracy\"]])\n",
    "model.fit([title_data, text_body_data, tags_data],\n",
    "          [priority_data, department_data],\n",
    "          epochs=1)\n",
    "model.evaluate([title_data, text_body_data, tags_data],\n",
    "               [priority_data, department_data])\n",
    "priority_preds, department_preds = model.predict([title_data, text_body_data, tags_data])"
   ]
  },
  {
   "cell_type": "markdown",
   "metadata": {
    "colab_type": "text"
   },
   "source": [
    "**Training a model by providing dicts of input & target arrays**"
   ]
  },
  {
   "cell_type": "code",
   "execution_count": 20,
   "metadata": {
    "colab_type": "code"
   },
   "outputs": [
    {
     "name": "stdout",
     "output_type": "stream",
     "text": [
      "40/40 [==============================] - 1s 30ms/step - loss: 20.1682 - priority_loss: 0.3401 - department_loss: 19.8281 - priority_mean_absolute_error: 0.5052 - department_accuracy: 0.2695\n",
      "40/40 [==============================] - 0s 8ms/step - loss: 22.7591 - priority_loss: 0.3401 - department_loss: 22.4189 - priority_mean_absolute_error: 0.5052 - department_accuracy: 0.0672\n"
     ]
    }
   ],
   "source": [
    "model.compile(optimizer=\"rmsprop\",\n",
    "              loss={\"priority\": \"mean_squared_error\", \"department\": \"categorical_crossentropy\"},\n",
    "              metrics={\"priority\": [\"mean_absolute_error\"], \"department\": [\"accuracy\"]})\n",
    "model.fit({\"title\": title_data, \"text_body\": text_body_data, \"tags\": tags_data},\n",
    "          {\"priority\": priority_data, \"department\": department_data},\n",
    "          epochs=1)\n",
    "model.evaluate({\"title\": title_data, \"text_body\": text_body_data, \"tags\": tags_data},\n",
    "               {\"priority\": priority_data, \"department\": department_data})\n",
    "priority_preds, department_preds = model.predict(\n",
    "    {\"title\": title_data, \"text_body\": text_body_data, \"tags\": tags_data})"
   ]
  },
  {
   "cell_type": "markdown",
   "metadata": {
    "colab_type": "text"
   },
   "source": [
    "#### The power of the Functional API: Access to layer connectivity\n",
    "\n",
    "Functional 모델은 명시적 그래프 데이터 구조입니다.\n",
    "\n",
    "* 레이어가 어떻게 연결되어 있는지 검사\n",
    "* 이전 그래프 노드 재사용"
   ]
  },
  {
   "cell_type": "code",
   "execution_count": 21,
   "metadata": {
    "colab_type": "code"
   },
   "outputs": [
    {
     "data": {
      "image/png": "[encoded data removed]",
      "text/plain": [
       "<IPython.core.display.Image object>"
      ]
     },
     "execution_count": 21,
     "metadata": {},
     "output_type": "execute_result"
    }
   ],
   "source": [
    "keras.utils.plot_model(model, \"ticket_classifier.png\")"
   ]
  },
  {
   "cell_type": "code",
   "execution_count": 22,
   "metadata": {
    "colab_type": "code"
   },
   "outputs": [
    {
     "data": {
      "image/png": "[encoded data removed]",
      "text/plain": [
       "<IPython.core.display.Image object>"
      ]
     },
     "execution_count": 22,
     "metadata": {},
     "output_type": "execute_result"
    }
   ],
   "source": [
    "keras.utils.plot_model(model, \"ticket_classifier_with_shape_info.png\", show_shapes=True)"
   ]
  },
  {
   "cell_type": "markdown",
   "metadata": {
    "colab_type": "text"
   },
   "source": [
    "**Retrieving the inputs or outputs of a layer in a Functional model**"
   ]
  },
  {
   "cell_type": "code",
   "execution_count": 23,
   "metadata": {
    "colab_type": "code"
   },
   "outputs": [
    {
     "data": {
      "text/plain": [
       "[<tensorflow.python.keras.engine.input_layer.InputLayer at 0x2d70a0b1d60>,\n",
       " <tensorflow.python.keras.engine.input_layer.InputLayer at 0x2d70a0b1550>,\n",
       " <tensorflow.python.keras.engine.input_layer.InputLayer at 0x2d70a0b16a0>,\n",
       " <tensorflow.python.keras.layers.merge.Concatenate at 0x2d70a0b13d0>,\n",
       " <tensorflow.python.keras.layers.core.Dense at 0x2d70a08df10>,\n",
       " <tensorflow.python.keras.layers.core.Dense at 0x2d70a08d1f0>,\n",
       " <tensorflow.python.keras.layers.core.Dense at 0x2d70a0dea00>]"
      ]
     },
     "execution_count": 23,
     "metadata": {},
     "output_type": "execute_result"
    }
   ],
   "source": [
    "model.layers"
   ]
  },
  {
   "cell_type": "code",
   "execution_count": 24,
   "metadata": {
    "colab_type": "code"
   },
   "outputs": [
    {
     "data": {
      "text/plain": [
       "[<tf.Tensor 'title_1:0' shape=(None, 10000) dtype=float32>,\n",
       " <tf.Tensor 'text_body_1:0' shape=(None, 10000) dtype=float32>,\n",
       " <tf.Tensor 'tags_1:0' shape=(None, 100) dtype=float32>]"
      ]
     },
     "execution_count": 24,
     "metadata": {},
     "output_type": "execute_result"
    }
   ],
   "source": [
    "model.layers[3].input"
   ]
  },
  {
   "cell_type": "code",
   "execution_count": 25,
   "metadata": {
    "colab_type": "code"
   },
   "outputs": [
    {
     "data": {
      "text/plain": [
       "<tf.Tensor 'concatenate_1/concat:0' shape=(None, 20100) dtype=float32>"
      ]
     },
     "execution_count": 25,
     "metadata": {},
     "output_type": "execute_result"
    }
   ],
   "source": [
    "model.layers[3].output"
   ]
  },
  {
   "cell_type": "markdown",
   "metadata": {
    "colab_type": "text"
   },
   "source": [
    "**Creating a new model by reusing intermediate layer outputs**\n",
    "\n",
    "새로운 출력: 주어진 문제 티켓이 해결하는 데 걸리는 시간 추정, 난이도 등급 (quick, medium, difficult)"
   ]
  },
  {
   "cell_type": "code",
   "execution_count": 26,
   "metadata": {
    "colab_type": "code"
   },
   "outputs": [],
   "source": [
    "features = model.layers[4].output\n",
    "difficulty = layers.Dense(3, activation=\"softmax\", name=\"difficulty\")(features)\n",
    "\n",
    "new_model = keras.Model(\n",
    "    inputs=[title, text_body, tags],\n",
    "    outputs=[priority, department, difficulty])"
   ]
  },
  {
   "cell_type": "code",
   "execution_count": 27,
   "metadata": {
    "colab_type": "code"
   },
   "outputs": [
    {
     "data": {
      "image/png": "[encoded data removed]",
      "text/plain": [
       "<IPython.core.display.Image object>"
      ]
     },
     "execution_count": 27,
     "metadata": {},
     "output_type": "execute_result"
    }
   ],
   "source": [
    "keras.utils.plot_model(new_model, \"updated_ticket_classifier.png\", show_shapes=True)"
   ]
  },
  {
   "cell_type": "markdown",
   "metadata": {
    "colab_type": "text"
   },
   "source": [
    "### Subclassing the Model class"
   ]
  },
  {
   "cell_type": "markdown",
   "metadata": {
    "colab_type": "text"
   },
   "source": [
    "#### Rewriting our previous example as a subclassed model"
   ]
  },
  {
   "cell_type": "markdown",
   "metadata": {
    "colab_type": "text"
   },
   "source": [
    "**A simple subclassed model**"
   ]
  },
  {
   "cell_type": "code",
   "execution_count": 28,
   "metadata": {
    "colab_type": "code"
   },
   "outputs": [],
   "source": [
    "class CustomerTicketModel(keras.Model):\n",
    "\n",
    "    def __init__(self, num_departments):\n",
    "        super().__init__()\n",
    "        self.concat_layer = layers.Concatenate()\n",
    "        self.mixing_layer = layers.Dense(64, activation=\"relu\")\n",
    "        self.priority_scorer = layers.Dense(1, activation=\"sigmoid\")\n",
    "        self.department_classifier = layers.Dense(\n",
    "            num_departments, activation=\"softmax\")\n",
    "\n",
    "    def call(self, inputs):\n",
    "        title = inputs[\"title\"]\n",
    "        text_body = inputs[\"text_body\"]\n",
    "        tags = inputs[\"tags\"]\n",
    "\n",
    "        features = self.concat_layer([title, text_body, tags])\n",
    "        features = self.mixing_layer(features)\n",
    "        priority = self.priority_scorer(features)\n",
    "        department = self.department_classifier(features)\n",
    "        return priority, department"
   ]
  },
  {
   "cell_type": "code",
   "execution_count": 29,
   "metadata": {
    "colab_type": "code"
   },
   "outputs": [],
   "source": [
    "model = CustomerTicketModel(num_departments=4)\n",
    "\n",
    "priority, department = model(\n",
    "    {\"title\": title_data, \"text_body\": text_body_data, \"tags\": tags_data})"
   ]
  },
  {
   "cell_type": "code",
   "execution_count": 30,
   "metadata": {
    "colab_type": "code"
   },
   "outputs": [
    {
     "name": "stdout",
     "output_type": "stream",
     "text": [
      "40/40 [==============================] - 1s 29ms/step - loss: 23.7944 - output_1_loss: 0.3356 - output_2_loss: 23.4588 - output_1_mean_absolute_error: 0.5013 - output_2_accuracy: 0.1844\n",
      "40/40 [==============================] - 0s 8ms/step - loss: 19.4060 - output_1_loss: 0.3401 - output_2_loss: 19.0659 - output_1_mean_absolute_error: 0.5052 - output_2_accuracy: 0.1414\n"
     ]
    }
   ],
   "source": [
    "model.compile(optimizer=\"rmsprop\",\n",
    "              loss=[\"mean_squared_error\", \"categorical_crossentropy\"],\n",
    "              metrics=[[\"mean_absolute_error\"], [\"accuracy\"]])\n",
    "model.fit({\"title\": title_data,\n",
    "           \"text_body\": text_body_data,\n",
    "           \"tags\": tags_data},\n",
    "          [priority_data, department_data],\n",
    "          epochs=1)\n",
    "model.evaluate({\"title\": title_data,\n",
    "                \"text_body\": text_body_data,\n",
    "                \"tags\": tags_data},\n",
    "               [priority_data, department_data])\n",
    "priority_preds, department_preds = model.predict({\"title\": title_data,\n",
    "                                                  \"text_body\": text_body_data,\n",
    "                                                  \"tags\": tags_data})"
   ]
  },
  {
   "cell_type": "markdown",
   "metadata": {
    "colab_type": "text"
   },
   "source": [
    "#### Beware: What subclassed models don't support\n",
    "\n",
    "Functional API 모델은 data structure 입니다. 액세스, 검사 및 수정할 수 있습니다.\n",
    "\n",
    "Subclassed model은 bytecode 조각입니다. ```summary()``` 또는 ```plot_model()```을 사용할 수 없습니다."
   ]
  },
  {
   "cell_type": "markdown",
   "metadata": {
    "colab_type": "text"
   },
   "source": [
    "### Mixing and matching different components"
   ]
  },
  {
   "cell_type": "markdown",
   "metadata": {
    "colab_type": "text"
   },
   "source": [
    "**Creating a Functional model that includes a subclassed model**"
   ]
  },
  {
   "cell_type": "code",
   "execution_count": 31,
   "metadata": {
    "colab_type": "code"
   },
   "outputs": [],
   "source": [
    "class Classifier(keras.Model):\n",
    "\n",
    "    def __init__(self, num_classes=2):\n",
    "        super().__init__()\n",
    "        if num_classes == 2:\n",
    "            num_units = 1\n",
    "            activation = \"sigmoid\"\n",
    "        else:\n",
    "            num_units = num_classes\n",
    "            activation = \"softmax\"\n",
    "        self.dense = layers.Dense(num_units, activation=activation)\n",
    "\n",
    "    def call(self, inputs):\n",
    "        return self.dense(inputs)\n",
    "\n",
    "inputs = keras.Input(shape=(3,))\n",
    "features = layers.Dense(64, activation=\"relu\")(inputs)\n",
    "outputs = Classifier(num_classes=10)(features)\n",
    "model = keras.Model(inputs=inputs, outputs=outputs)"
   ]
  },
  {
   "cell_type": "markdown",
   "metadata": {
    "colab_type": "text"
   },
   "source": [
    "**Creating a subclassed model that includes a Functional model**"
   ]
  },
  {
   "cell_type": "code",
   "execution_count": 32,
   "metadata": {
    "colab_type": "code"
   },
   "outputs": [],
   "source": [
    "inputs = keras.Input(shape=(64,))\n",
    "outputs = layers.Dense(1, activation=\"sigmoid\")(inputs)\n",
    "binary_classifier = keras.Model(inputs=inputs, outputs=outputs)\n",
    "\n",
    "class MyModel(keras.Model):\n",
    "\n",
    "    def __init__(self, num_classes=2):\n",
    "        super().__init__()\n",
    "        self.dense = layers.Dense(64, activation=\"relu\")\n",
    "        self.classifier = binary_classifier\n",
    "\n",
    "    def call(self, inputs):\n",
    "        features = self.dense(inputs)\n",
    "        return self.classifier(features)\n",
    "\n",
    "model = MyModel()"
   ]
  },
  {
   "cell_type": "markdown",
   "metadata": {
    "colab_type": "text"
   },
   "source": [
    "### Remember: Use the right tool for the job\n",
    "\n",
    "Functional API\n",
    "\n",
    "* 사용 용이성과 유연성 사이에 상당한 균형을 제공합니다.\n",
    "* layer 연결에 대한 직접 접근\n",
    "* 가능한 경우(방향성 비순환 그래프(directed acyclic graph)) subclass 보다 더 사용"
   ]
  },
  {
   "cell_type": "markdown",
   "metadata": {
    "colab_type": "text"
   },
   "source": [
    "## Using built-in training and evaluation loops"
   ]
  },
  {
   "cell_type": "markdown",
   "metadata": {
    "colab_type": "text"
   },
   "source": [
    "**The standard workflow: `compile()`, `fit()`, `evaluate()`, `predict()`**"
   ]
  },
  {
   "cell_type": "code",
   "execution_count": 33,
   "metadata": {
    "colab_type": "code"
   },
   "outputs": [
    {
     "name": "stdout",
     "output_type": "stream",
     "text": [
      "Epoch 1/3\n",
      "1563/1563 [==============================] - 16s 10ms/step - loss: 0.2960 - accuracy: 0.9115 - val_loss: 0.1483 - val_accuracy: 0.9598\n",
      "Epoch 2/3\n",
      "1563/1563 [==============================] - 16s 10ms/step - loss: 0.1667 - accuracy: 0.9531 - val_loss: 0.1158 - val_accuracy: 0.9684\n",
      "Epoch 3/3\n",
      "1563/1563 [==============================] - 15s 10ms/step - loss: 0.1409 - accuracy: 0.9617 - val_loss: 0.1196 - val_accuracy: 0.9696\n",
      "313/313 [==============================] - 1s 3ms/step - loss: 0.1137 - accuracy: 0.9713: 0s - loss: 0.1112 - accuracy: 0.\n"
     ]
    }
   ],
   "source": [
    "from tensorflow.keras.datasets import mnist\n",
    "\n",
    "def get_mnist_model():\n",
    "    inputs = keras.Input(shape=(28 * 28,))\n",
    "    features = layers.Dense(512, activation=\"relu\")(inputs)\n",
    "    features = layers.Dropout(0.5)(features)\n",
    "    outputs = layers.Dense(10, activation=\"softmax\")(features)\n",
    "    model = keras.Model(inputs, outputs)\n",
    "    return model\n",
    "\n",
    "(images, labels), (test_images, test_labels) = mnist.load_data()\n",
    "images = images.reshape((60000, 28 * 28)).astype(\"float32\") / 255\n",
    "test_images = test_images.reshape((10000, 28 * 28)).astype(\"float32\") / 255\n",
    "train_images, val_images = images[10000:], images[:10000]\n",
    "train_labels, val_labels = labels[10000:], labels[:10000]\n",
    "\n",
    "model = get_mnist_model()\n",
    "model.compile(optimizer=\"rmsprop\",\n",
    "              loss=\"sparse_categorical_crossentropy\",\n",
    "              metrics=[\"accuracy\"])\n",
    "model.fit(train_images, train_labels,\n",
    "          epochs=3,\n",
    "          validation_data=(val_images, val_labels))\n",
    "test_metrics = model.evaluate(test_images, test_labels)\n",
    "predictions = model.predict(test_images)"
   ]
  },
  {
   "cell_type": "markdown",
   "metadata": {},
   "source": [
    "simple customizations:\n",
    "\n",
    "* custom metrics\n",
    "* callbacks"
   ]
  },
  {
   "cell_type": "markdown",
   "metadata": {
    "colab_type": "text"
   },
   "source": [
    "### Writing your own metrics"
   ]
  },
  {
   "cell_type": "markdown",
   "metadata": {
    "colab_type": "text"
   },
   "source": [
    "**Implementing a custom metric by subclassing the `Metric` class**"
   ]
  },
  {
   "cell_type": "code",
   "execution_count": 34,
   "metadata": {
    "colab_type": "code"
   },
   "outputs": [],
   "source": [
    "import tensorflow as tf\n",
    "\n",
    "class RootMeanSquaredError(keras.metrics.Metric):\n",
    "\n",
    "    def __init__(self, name=\"rmse\", **kwargs):\n",
    "        super().__init__(name=name, **kwargs)\n",
    "        self.mse_sum = self.add_weight(name=\"mse_sum\", initializer=\"zeros\")\n",
    "        self.total_samples = self.add_weight(\n",
    "            name=\"total_samples\", initializer=\"zeros\", dtype=\"int32\")\n",
    "\n",
    "    def update_state(self, y_true, y_pred, sample_weight=None):\n",
    "        y_true = tf.one_hot(y_true, depth=tf.shape(y_pred)[1])\n",
    "        mse = tf.reduce_sum(tf.square(y_true - y_pred))\n",
    "        self.mse_sum.assign_add(mse)\n",
    "        num_samples = tf.shape(y_pred)[0]\n",
    "        self.total_samples.assign_add(num_samples)\n",
    "\n",
    "    def result(self):\n",
    "        return tf.sqrt(self.mse_sum / tf.cast(self.total_samples, tf.float32))\n",
    "\n",
    "    def reset_state(self):\n",
    "        self.mse_sum.assign(0.)\n",
    "        self.total_samples.assign(0)"
   ]
  },
  {
   "cell_type": "code",
   "execution_count": 35,
   "metadata": {
    "colab_type": "code"
   },
   "outputs": [
    {
     "name": "stdout",
     "output_type": "stream",
     "text": [
      "Epoch 1/3\n",
      "1563/1563 [==============================] - 17s 11ms/step - loss: 0.2930 - accuracy: 0.9124 - rmse: 7.1854 - val_loss: 0.1454 - val_accuracy: 0.9578 - val_rmse: 7.3596\n",
      "Epoch 2/3\n",
      "1563/1563 [==============================] - 17s 11ms/step - loss: 0.1642 - accuracy: 0.9539 - rmse: 7.3571 - val_loss: 0.1234 - val_accuracy: 0.9659 - val_rmse: 7.4065\n",
      "Epoch 3/3\n",
      "1563/1563 [==============================] - 16s 10ms/step - loss: 0.1405 - accuracy: 0.9619 - rmse: 7.3881 - val_loss: 0.1058 - val_accuracy: 0.9723 - val_rmse: 7.4205\n",
      "313/313 [==============================] - 1s 3ms/step - loss: 0.0980 - accuracy: 0.9743 - rmse: 7.4329\n"
     ]
    }
   ],
   "source": [
    "model = get_mnist_model()\n",
    "model.compile(optimizer=\"rmsprop\",\n",
    "              loss=\"sparse_categorical_crossentropy\",\n",
    "              metrics=[\"accuracy\", RootMeanSquaredError()])\n",
    "model.fit(train_images, train_labels,\n",
    "          epochs=3,\n",
    "          validation_data=(val_images, val_labels))\n",
    "test_metrics = model.evaluate(test_images, test_labels)"
   ]
  },
  {
   "cell_type": "markdown",
   "metadata": {
    "colab_type": "text"
   },
   "source": [
    "### Using callbacks\n",
    "\n",
    "* keras.callbacks.ModelCheckpoint\n",
    "* keras.callbacks.EarlyStopping\n",
    "* keras.callbacks.LearningRateScheduler\n",
    "* keras.callbacks.ReduceLROnPlateau\n",
    "* keras.callbacks.CSVLogger"
   ]
  },
  {
   "cell_type": "markdown",
   "metadata": {
    "colab_type": "text"
   },
   "source": [
    "#### The EarlyStopping and ModelCheckpoint callbacks"
   ]
  },
  {
   "cell_type": "markdown",
   "metadata": {
    "colab_type": "text"
   },
   "source": [
    "**Using the `callbacks` argument in the `fit()` method**"
   ]
  },
  {
   "cell_type": "code",
   "execution_count": 36,
   "metadata": {
    "colab_type": "code"
   },
   "outputs": [
    {
     "name": "stdout",
     "output_type": "stream",
     "text": [
      "Epoch 1/10\n",
      "1563/1563 [==============================] - 19s 12ms/step - loss: 0.2948 - accuracy: 0.9117 - val_loss: 0.1511 - val_accuracy: 0.9568\n",
      "Epoch 2/10\n",
      "1563/1563 [==============================] - 20s 13ms/step - loss: 0.1655 - accuracy: 0.9541 - val_loss: 0.1304 - val_accuracy: 0.9651\n",
      "Epoch 3/10\n",
      "1563/1563 [==============================] - 19s 12ms/step - loss: 0.1394 - accuracy: 0.9627 - val_loss: 0.1104 - val_accuracy: 0.9719\n",
      "Epoch 4/10\n",
      "1563/1563 [==============================] - 17s 11ms/step - loss: 0.1256 - accuracy: 0.9673 - val_loss: 0.1141 - val_accuracy: 0.9738\n",
      "Epoch 5/10\n",
      "1563/1563 [==============================] - 16s 10ms/step - loss: 0.1184 - accuracy: 0.9708 - val_loss: 0.1107 - val_accuracy: 0.9738\n",
      "Epoch 6/10\n",
      "1563/1563 [==============================] - 20s 13ms/step - loss: 0.1119 - accuracy: 0.9739 - val_loss: 0.1063 - val_accuracy: 0.9759\n",
      "Epoch 7/10\n",
      "1563/1563 [==============================] - 16s 10ms/step - loss: 0.1059 - accuracy: 0.9746 - val_loss: 0.1172 - val_accuracy: 0.9761\n",
      "Epoch 8/10\n",
      "1563/1563 [==============================] - 15s 9ms/step - loss: 0.1008 - accuracy: 0.9758 - val_loss: 0.1163 - val_accuracy: 0.9764\n",
      "Epoch 9/10\n",
      "1563/1563 [==============================] - 15s 10ms/step - loss: 0.0975 - accuracy: 0.9773 - val_loss: 0.1260 - val_accuracy: 0.9776\n",
      "Epoch 10/10\n",
      "1563/1563 [==============================] - 15s 10ms/step - loss: 0.0961 - accuracy: 0.9788 - val_loss: 0.1146 - val_accuracy: 0.9783\n"
     ]
    },
    {
     "data": {
      "text/plain": [
       "<tensorflow.python.keras.callbacks.History at 0x2d70bb4ff40>"
      ]
     },
     "execution_count": 36,
     "metadata": {},
     "output_type": "execute_result"
    }
   ],
   "source": [
    "callbacks_list = [\n",
    "    keras.callbacks.EarlyStopping(\n",
    "        monitor=\"val_accuracy\",\n",
    "        patience=2,\n",
    "    ),\n",
    "    keras.callbacks.ModelCheckpoint(\n",
    "        filepath=\"checkpoint_path.keras\",\n",
    "        monitor=\"val_loss\",\n",
    "        save_best_only=True,\n",
    "    )\n",
    "]\n",
    "model = get_mnist_model()\n",
    "model.compile(optimizer=\"rmsprop\",\n",
    "              loss=\"sparse_categorical_crossentropy\",\n",
    "              metrics=[\"accuracy\"])\n",
    "model.fit(train_images, train_labels,\n",
    "          epochs=10,\n",
    "          callbacks=callbacks_list,\n",
    "          validation_data=(val_images, val_labels))"
   ]
  },
  {
   "cell_type": "code",
   "execution_count": 37,
   "metadata": {
    "colab_type": "code"
   },
   "outputs": [],
   "source": [
    "model = keras.models.load_model(\"checkpoint_path.keras\")"
   ]
  },
  {
   "cell_type": "markdown",
   "metadata": {
    "colab_type": "text"
   },
   "source": [
    "### Writing your own callbacks"
   ]
  },
  {
   "cell_type": "markdown",
   "metadata": {
    "colab_type": "text"
   },
   "source": [
    "**Creating a custom callback by subclassing the `Callback` class**"
   ]
  },
  {
   "cell_type": "code",
   "execution_count": 0,
   "metadata": {
    "colab_type": "code"
   },
   "outputs": [],
   "source": [
    "from matplotlib import pyplot as plt\n",
    "\n",
    "class LossHistory(keras.callbacks.Callback):\n",
    "    def on_train_begin(self, logs):\n",
    "        self.per_batch_losses = []\n",
    "\n",
    "    def on_batch_end(self, batch, logs):\n",
    "        self.per_batch_losses.append(logs.get(\"loss\"))\n",
    "\n",
    "    def on_epoch_end(self, epoch, logs):\n",
    "        plt.clf()\n",
    "        plt.plot(range(len(self.per_batch_losses)), self.per_batch_losses,\n",
    "                 label=\"Training loss for each batch\")\n",
    "        plt.xlabel(f\"Batch (epoch {epoch})\")\n",
    "        plt.ylabel(\"Loss\")\n",
    "        plt.legend()\n",
    "        plt.savefig(f\"plot_at_epoch_{epoch}\")\n",
    "        self.per_batch_losses = []"
   ]
  },
  {
   "cell_type": "code",
   "execution_count": 0,
   "metadata": {
    "colab_type": "code"
   },
   "outputs": [],
   "source": [
    "model = get_mnist_model()\n",
    "model.compile(optimizer=\"rmsprop\",\n",
    "              loss=\"sparse_categorical_crossentropy\",\n",
    "              metrics=[\"accuracy\"])\n",
    "model.fit(train_images, train_labels,\n",
    "          epochs=10,\n",
    "          callbacks=[LossHistory()],\n",
    "          validation_data=(val_images, val_labels))"
   ]
  },
  {
   "cell_type": "markdown",
   "metadata": {
    "colab_type": "text"
   },
   "source": [
    "### Monitoring and visualization with TensorBoard"
   ]
  },
  {
   "cell_type": "code",
   "execution_count": 0,
   "metadata": {
    "colab_type": "code"
   },
   "outputs": [],
   "source": [
    "model = get_mnist_model()\n",
    "model.compile(optimizer=\"rmsprop\",\n",
    "              loss=\"sparse_categorical_crossentropy\",\n",
    "              metrics=[\"accuracy\"])\n",
    "\n",
    "tensorboard = keras.callbacks.TensorBoard(\n",
    "    log_dir=\"/full_path_to_your_log_dir\",\n",
    ")\n",
    "model.fit(train_images, train_labels,\n",
    "          epochs=10,\n",
    "          validation_data=(val_images, val_labels),\n",
    "          callbacks=[tensorboard])"
   ]
  },
  {
   "cell_type": "code",
   "execution_count": 0,
   "metadata": {
    "colab_type": "code"
   },
   "outputs": [],
   "source": [
    "%load_ext tensorboard\n",
    "%tensorboard --logdir /full_path_to_your_log_dir"
   ]
  },
  {
   "cell_type": "markdown",
   "metadata": {
    "colab_type": "text"
   },
   "source": [
    "## Writing your own training and evaluation loops\n",
    "\n",
    "1. Run the forward pass\n",
    "2. Retrive the gradients\n",
    "3. Update the models's weights"
   ]
  },
  {
   "cell_type": "markdown",
   "metadata": {
    "colab_type": "text"
   },
   "source": [
    "### Training versus inference\n",
    "\n",
    "Attention : \n",
    "* `training` argument (e.g. Dropout)\n",
    "* `tape.gradients(loss, model.trainable_wieghts)` not model.weights (e.g. `BatchNormalization`)"
   ]
  },
  {
   "cell_type": "code",
   "execution_count": null,
   "metadata": {},
   "outputs": [],
   "source": [
    "# Not for running\n",
    "def train_step(inputs, targets):\n",
    "    with tf.GradientTape() as tape:\n",
    "        predictions = model(inputs, training=True)\n",
    "        loss = loss_fn(targets, predictions)\n",
    "    gradientsn = tape.gradients(loss, model.trainable_weights)\n",
    "    optimizer.apply_gradients(zip(model.trainable_weights, gradients))"
   ]
  },
  {
   "cell_type": "markdown",
   "metadata": {
    "colab_type": "text"
   },
   "source": [
    "### Low-level usage of metrics"
   ]
  },
  {
   "cell_type": "code",
   "execution_count": 0,
   "metadata": {
    "colab_type": "code"
   },
   "outputs": [],
   "source": [
    "metric = keras.metrics.SparseCategoricalAccuracy()\n",
    "targets = [0, 1, 2]\n",
    "predictions = [[1, 0, 0], [0, 1, 0], [0, 0, 1]]\n",
    "metric.update_state(targets, predictions)\n",
    "current_result = metric.result()\n",
    "print(f\"result: {current_result:.2f}\")"
   ]
  },
  {
   "cell_type": "code",
   "execution_count": 0,
   "metadata": {
    "colab_type": "code"
   },
   "outputs": [],
   "source": [
    "values = [0, 1, 2, 3, 4]\n",
    "mean_tracker = keras.metrics.Mean()\n",
    "for value in values:\n",
    "    mean_tracker.update_state(value)\n",
    "print(f\"Mean of values: {mean_tracker.result():.2f}\")"
   ]
  },
  {
   "cell_type": "markdown",
   "metadata": {
    "colab_type": "text"
   },
   "source": [
    "### A complete training and evaluation loop"
   ]
  },
  {
   "cell_type": "markdown",
   "metadata": {
    "colab_type": "text"
   },
   "source": [
    "**Writing a step-by-step training loop: the training step function**"
   ]
  },
  {
   "cell_type": "code",
   "execution_count": 0,
   "metadata": {
    "colab_type": "code"
   },
   "outputs": [],
   "source": [
    "model = get_mnist_model()\n",
    "\n",
    "loss_fn = keras.losses.SparseCategoricalCrossentropy()\n",
    "optimizer = keras.optimizers.RMSprop()\n",
    "metrics = [keras.metrics.SparseCategoricalAccuracy()]\n",
    "loss_tracking_metric = keras.metrics.Mean()\n",
    "\n",
    "def train_step(inputs, targets):\n",
    "    with tf.GradientTape() as tape:\n",
    "        predictions = model(inputs, training=True)\n",
    "        loss = loss_fn(targets, predictions)\n",
    "    gradients = tape.gradient(loss, model.trainable_weights)\n",
    "    optimizer.apply_gradients(zip(gradients, model.trainable_weights))\n",
    "\n",
    "    logs = {}\n",
    "    for metric in metrics:\n",
    "        metric.update_state(targets, predictions)\n",
    "        logs[metric.name] = metric.result()\n",
    "\n",
    "    loss_tracking_metric.update_state(loss)\n",
    "    logs[\"loss\"] = loss_tracking_metric.result()\n",
    "    return logs"
   ]
  },
  {
   "cell_type": "markdown",
   "metadata": {
    "colab_type": "text"
   },
   "source": [
    "**Writing a step-by-step training loop: resetting the metrics**"
   ]
  },
  {
   "cell_type": "code",
   "execution_count": 0,
   "metadata": {
    "colab_type": "code"
   },
   "outputs": [],
   "source": [
    "def reset_metrics():\n",
    "    for metric in metrics:\n",
    "        metric.reset_state()\n",
    "    loss_tracking_metric.reset_state()"
   ]
  },
  {
   "cell_type": "markdown",
   "metadata": {
    "colab_type": "text"
   },
   "source": [
    "**Writing a step-by-step training loop: the loop itself**"
   ]
  },
  {
   "cell_type": "code",
   "execution_count": 0,
   "metadata": {
    "colab_type": "code"
   },
   "outputs": [],
   "source": [
    "training_dataset = tf.data.Dataset.from_tensor_slices((train_images, train_labels))\n",
    "training_dataset = training_dataset.batch(32)\n",
    "epochs = 3\n",
    "for epoch in range(epochs):\n",
    "    reset_metrics()\n",
    "    for inputs_batch, targets_batch in training_dataset:\n",
    "        logs = train_step(inputs_batch, targets_batch)\n",
    "    print(f\"Results at the end of epoch {epoch}\")\n",
    "    for key, value in logs.items():\n",
    "        print(f\"...{key}: {value:.4f}\")"
   ]
  },
  {
   "cell_type": "markdown",
   "metadata": {
    "colab_type": "text"
   },
   "source": [
    "**Writing a step-by-step evaluation loop**"
   ]
  },
  {
   "cell_type": "code",
   "execution_count": 0,
   "metadata": {
    "colab_type": "code"
   },
   "outputs": [],
   "source": [
    "def test_step(inputs, targets):\n",
    "    predictions = model(inputs, training=False)\n",
    "    loss = loss_fn(targets, predictions)\n",
    "\n",
    "    logs = {}\n",
    "    for metric in metrics:\n",
    "        metric.update_state(targets, predictions)\n",
    "        logs[\"val_\" + metric.name] = metric.result()\n",
    "\n",
    "    loss_tracking_metric.update_state(loss)\n",
    "    logs[\"val_loss\"] = loss_tracking_metric.result()\n",
    "    return logs\n",
    "\n",
    "val_dataset = tf.data.Dataset.from_tensor_slices((val_images, val_labels))\n",
    "val_dataset = val_dataset.batch(32)\n",
    "reset_metrics()\n",
    "for inputs_batch, targets_batch in val_dataset:\n",
    "    logs = test_step(inputs_batch, targets_batch)\n",
    "print(\"Evaluation results:\")\n",
    "for key, value in logs.items():\n",
    "    print(f\"...{key}: {value:.4f}\")"
   ]
  },
  {
   "cell_type": "markdown",
   "metadata": {
    "colab_type": "text"
   },
   "source": [
    "### Make it fast with tf.function\n",
    "\n",
    "By default: eager execution (easy for debugging)\n",
    "\n",
    "Faster: compile with @tf.function decorator"
   ]
  },
  {
   "cell_type": "markdown",
   "metadata": {
    "colab_type": "text"
   },
   "source": [
    "**Adding a `tf.function` decorator to our evaluation-step function**"
   ]
  },
  {
   "cell_type": "code",
   "execution_count": 0,
   "metadata": {
    "colab_type": "code"
   },
   "outputs": [],
   "source": [
    "@tf.function\n",
    "def test_step(inputs, targets):\n",
    "    predictions = model(inputs, training=False)\n",
    "    loss = loss_fn(targets, predictions)\n",
    "\n",
    "    logs = {}\n",
    "    for metric in metrics:\n",
    "        metric.update_state(targets, predictions)\n",
    "        logs[\"val_\" + metric.name] = metric.result()\n",
    "\n",
    "    loss_tracking_metric.update_state(loss)\n",
    "    logs[\"val_loss\"] = loss_tracking_metric.result()\n",
    "    return logs\n",
    "\n",
    "val_dataset = tf.data.Dataset.from_tensor_slices((val_images, val_labels))\n",
    "val_dataset = val_dataset.batch(32)\n",
    "reset_metrics()\n",
    "for inputs_batch, targets_batch in val_dataset:\n",
    "    logs = test_step(inputs_batch, targets_batch)\n",
    "print(\"Evaluation results:\")\n",
    "for key, value in logs.items():\n",
    "    print(f\"...{key}: {value:.4f}\")"
   ]
  },
  {
   "cell_type": "markdown",
   "metadata": {
    "colab_type": "text"
   },
   "source": [
    "### Leveraging fit() with a custom training loop\n",
    "\n",
    "fit( )과 처음부터 작성된 trainging 루프 사이의 중간 지점: 맞춤형 training 단계 함수를 제공하고 나머지는 프레임워크가 처리하도록 합니다."
   ]
  },
  {
   "cell_type": "markdown",
   "metadata": {
    "colab_type": "text"
   },
   "source": [
    "**Implementing a custom training step to use with `fit()`**\n",
    "\n",
    "* keras.Model의 하위 클래스로 새 클래스를 만듭니다.\n",
    "* train_step(self, data) method 재정의\n",
    "* metrics 속성 구현(reset_state()의 자동 호출용)"
   ]
  },
  {
   "cell_type": "code",
   "execution_count": 0,
   "metadata": {
    "colab_type": "code"
   },
   "outputs": [],
   "source": [
    "loss_fn = keras.losses.SparseCategoricalCrossentropy()\n",
    "loss_tracker = keras.metrics.Mean(name=\"loss\")\n",
    "\n",
    "class CustomModel(keras.Model):\n",
    "    def train_step(self, data):\n",
    "        inputs, targets = data\n",
    "        with tf.GradientTape() as tape:\n",
    "            predictions = self(inputs, training=True)\n",
    "            loss = loss_fn(targets, predictions)\n",
    "        gradients = tape.gradient(loss, self.trainable_weights)\n",
    "        self.optimizer.apply_gradients(zip(gradients, self.trainable_weights))\n",
    "\n",
    "        loss_tracker.update_state(loss)\n",
    "        return {\"loss\": loss_tracker.result()}\n",
    "\n",
    "    @property\n",
    "    def metrics(self):\n",
    "        return [loss_tracker]"
   ]
  },
  {
   "cell_type": "code",
   "execution_count": 0,
   "metadata": {
    "colab_type": "code"
   },
   "outputs": [],
   "source": [
    "inputs = keras.Input(shape=(28 * 28,))\n",
    "features = layers.Dense(512, activation=\"relu\")(inputs)\n",
    "features = layers.Dropout(0.5)(features)\n",
    "outputs = layers.Dense(10, activation=\"softmax\")(features)\n",
    "model = CustomModel(inputs, outputs)\n",
    "\n",
    "model.compile(optimizer=keras.optimizers.RMSprop())\n",
    "model.fit(train_images, train_labels, epochs=3)"
   ]
  },
  {
   "cell_type": "markdown",
   "metadata": {},
   "source": [
    "* one can use it with Functional API\n",
    "* no need for `@tf.function` decorator\n",
    "\n",
    "by passing metrics and loss at `compile( )` we get access to:\n",
    "* `self.compiled_loss`\n",
    "* `self.compiled_metrics` (allows `self.compiled_metrics.update_state()`)\n",
    "* `self.metrics` (metrics + a tracker metric for loss)"
   ]
  },
  {
   "cell_type": "code",
   "execution_count": 0,
   "metadata": {
    "colab_type": "code"
   },
   "outputs": [],
   "source": [
    "class CustomModel(keras.Model):\n",
    "    def train_step(self, data):\n",
    "        inputs, targets = data\n",
    "        with tf.GradientTape() as tape:\n",
    "            predictions = self(inputs, training=True)\n",
    "            loss = self.compiled_loss(targets, predictions)\n",
    "        gradients = tape.gradient(loss, self.trainable_weights)\n",
    "        self.optimizer.apply_gradients(zip(gradients, self.trainable_weights))\n",
    "        self.compiled_metrics.update_state(targets, predictions)\n",
    "        return {m.name: m.result() for m in self.metrics}"
   ]
  },
  {
   "cell_type": "code",
   "execution_count": 0,
   "metadata": {
    "colab_type": "code"
   },
   "outputs": [],
   "source": [
    "inputs = keras.Input(shape=(28 * 28,))\n",
    "features = layers.Dense(512, activation=\"relu\")(inputs)\n",
    "features = layers.Dropout(0.5)(features)\n",
    "outputs = layers.Dense(10, activation=\"softmax\")(features)\n",
    "model = CustomModel(inputs, outputs)\n",
    "\n",
    "model.compile(optimizer=keras.optimizers.RMSprop(),\n",
    "              loss=keras.losses.SparseCategoricalCrossentropy(),\n",
    "              metrics=[keras.metrics.SparseCategoricalAccuracy()])\n",
    "model.fit(train_images, train_labels, epochs=3)"
   ]
  },
  {
   "cell_type": "markdown",
   "metadata": {
    "colab_type": "text"
   },
   "source": [
    "## Summary\n",
    "\n",
    "* Keras는 *복잡성을 점진적으로 공개*한다는 원칙에 따라 다양한 워크플로를 제공합니다.\n",
    "* Sequential, Functional API, subclassing the Model class\n",
    "* simple:\n",
    "  * `fit()` for train\n",
    "  * `evaluate()` for evaluation\n",
    "* more control: override `train_step()`\n",
    "* evne more control: write train/evaluate loops for scratch (`@tf.function`)\n"
   ]
  }
 ],
 "metadata": {
  "colab": {
   "collapsed_sections": [],
   "name": "chapter07_working-with-keras.i",
   "private_outputs": false,
   "provenance": [],
   "toc_visible": true
  },
  "kernelspec": {
   "display_name": "Python 3",
   "language": "python",
   "name": "python3"
  },
  "language_info": {
   "codemirror_mode": {
    "name": "ipython",
    "version": 3
   },
   "file_extension": ".py",
   "mimetype": "text/x-python",
   "name": "python",
   "nbconvert_exporter": "python",
   "pygments_lexer": "ipython3",
   "version": "3.8.8"
  }
 },
 "nbformat": 4,
 "nbformat_minor": 1
}
